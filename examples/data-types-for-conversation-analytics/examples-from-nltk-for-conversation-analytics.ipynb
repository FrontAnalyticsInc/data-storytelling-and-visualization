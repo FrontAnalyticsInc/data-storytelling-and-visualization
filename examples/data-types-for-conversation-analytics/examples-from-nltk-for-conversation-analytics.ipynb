{
 "cells": [
  {
   "cell_type": "code",
   "execution_count": null,
   "metadata": {
    "collapsed": true
   },
   "outputs": [],
   "source": [
    "# how to preview data in nltk"
   ]
  },
  {
   "cell_type": "code",
   "execution_count": 1,
   "metadata": {
    "collapsed": true
   },
   "outputs": [],
   "source": [
    "import nltk"
   ]
  },
  {
   "cell_type": "code",
   "execution_count": null,
   "metadata": {
    "collapsed": true
   },
   "outputs": [],
   "source": [
    "#Switchboard Corpus (selections) \tLDC \t36 phonecalls, transcribed, parsed\n",
    "#TIMIT Corpus (selections) \tNIST/LDC \taudio files and transcripts for 16 speakers"
   ]
  },
  {
   "cell_type": "code",
   "execution_count": 2,
   "metadata": {
    "collapsed": false
   },
   "outputs": [
    {
     "name": "stdout",
     "output_type": "stream",
     "text": [
      "[(u'Confidence', u'NOUN'), (u'in', u'ADP'), ...]\n"
     ]
    }
   ],
   "source": [
    "from nltk.corpus import switchboard\n",
    "print(conll2000.tagged_words(tagset='universal'))"
   ]
  },
  {
   "cell_type": "code",
   "execution_count": 8,
   "metadata": {
    "collapsed": false
   },
   "outputs": [
    {
     "data": {
      "text/plain": [
       "[<B.2: u'Uh , yeah , currently we have a poodle .'>,\n",
       " <A.3: u'A poodle , miniature or , uh , full size ?'>,\n",
       " <B.4: u\"Yeah , uh , it 's , uh miniature .\">,\n",
       " <A.5: u'Uh-huh .'>,\n",
       " <B.6: u'Yeah .'>,\n",
       " <A.7: u'I read somewhere that , the poodles is one of the , the most intelligent dogs , uh , around .'>,\n",
       " <B.8: u\"Well , um , I would n't , uh , I definitely would n't dispute that , it , it 's actually my wife 's dog , uh , I , I became part owner six months ago when we got married , but , uh , it , uh , definitely responds to , uh , to authority and , I 've had dogs in the past and , uh , it seems , it seems to , uh , respond real well , it , it she 's , she 's picked up a lot of things , uh , just , just by , uh , teaching by force , I guess is what I 'd like to say .\">,\n",
       " <A.9: u\"Oh , uh-huh . So , you , you 've only known the dog , wh- , how long did you say .\">,\n",
       " <B.10: u'Well , about a year I guess .'>,\n",
       " <A.11: u'Oh , well , uh , is it , uh , uh , how old is the dog ?'>,\n",
       " <B.12: u'It just turned two , I believe .'>,\n",
       " <A.13: u\"Oh , it 's still just a pup .\">,\n",
       " <B.14: u'Pretty much , yeah , yeah .'>,\n",
       " <A.15: u'Yeah , I have a , uh , well a mutt , myself . I call it a , uh , uh , Chowperd .'>,\n",
       " <B.16: u'Okay .'>,\n",
       " <A.17: u\"It 's , uh , part Chow and part Shepherd and it , as I understand it , uh , both sides of the , were thoroughbreds . So , she 's a genuine Chowperd .\">,\n",
       " <B.18: u'Oh , that sounds interesting .'>,\n",
       " <A.19: u'She has the , the color and the black to- , tongue of a Chow , but , uh , she has the shap- , the shape of the , uh , uh , Shepherd .'>,\n",
       " <B.20: u\"Oh , that 's , that 's neat . How , about how big then ?\">,\n",
       " <A.21: u\"Oh , she weighs in at about fifty pounds , so she 's a medium size .\">,\n",
       " <B.22: u'Yeah , yeah .'>,\n",
       " <A.23: u\"But she 's big enough to be intimidating ,\">,\n",
       " <B.24: u'Most definitely .'>,\n",
       " <A.25: u'it is a fi , fixed female , by the way ,'>,\n",
       " <B.26: u'Yeah .'>,\n",
       " <A.27: u'and right from day one , she was teaching me .'>,\n",
       " <B.28: u\"Oh , I would n't doubt it , yeah .\">,\n",
       " <A.29: u\"She 's the most intelligent dog I 've ever seen . Course , I 'm a little prejudiced , of course .\">,\n",
       " <B.30: u\"Well that 's understandable , yeah , it 's , uh ,\">,\n",
       " <A.31: u'You know , the first time I brought her home , she was only , uh , was it six weeks old . And I spread the newspapers out in the kitchen area .'>,\n",
       " <B.32: u'Uh-huh .'>,\n",
       " <A.33: u'But , uh , next morning , she let me know in no uncertain terms that she wanted to use the bathroom .'>,\n",
       " <B.34: u'Okay .'>,\n",
       " <A.35: u'So , on next night , I spread the newspaper in the bathroom and she used them there .'>,\n",
       " <B.36: u'Oh .'>,\n",
       " <A.37: u\"But it was n't too long until she , uh , found out she could wait until I let her out in the morning .\">,\n",
       " <B.38: u'Yeah .'>,\n",
       " <A.39: u'And since then , I , I live alone ,'>,\n",
       " <B.40: u'Okay .'>,\n",
       " <A.41: u\"and , uh , I live in motor home , by the way , I 'm , uh , an R V , full time R V -er , and it 's , it 's such a pleasure to come home at night and you can see her smiling from ear to ear , she 's so happy to see me .\">,\n",
       " <B.42: u'Yeah , definitely .'>,\n",
       " <A.43: u\"And , uh , I do n't know if you get that kind of greeting or not .\">,\n",
       " <B.44: u\"Yeah , I can honestly say we do , uh , we , uh , just recently put a security system in our house and so now , uh , in order to , uh , to accommodate the motion detectors we have to keep her , uh , uh , locked up in the , the master bedroom during the day and then she 's got the , the bedroom and the bathroom to , for free run during the day but ,\">,\n",
       " <A.45: u'Uh-huh .'>,\n",
       " <B.46: u\"we 've always got , uh , got a nose and tongue pressed up against the window when we come walking up to the front door .\">,\n",
       " <A.47: u'.'>,\n",
       " <B.48: u\"She 's definitely ready to get out and run around .\">,\n",
       " <A.49: u\"Well my dog 's an outdoor type , she does not like to be indoors .\">,\n",
       " <B.50: u'Really .'>,\n",
       " <A.51: u\"Uh , she 'd rather sle , sleep outside on the , the cold ground at night .\">,\n",
       " <B.52: u'Oh wow .'>,\n",
       " <A.53: u'But , uh , I do make her come in .'>,\n",
       " <B.54: u'Yeah .'>,\n",
       " <A.55: u\"And I feed her indoors , that 's to lure her in , but during the day I have her on a , uh , on a leash ,\">,\n",
       " <B.56: u'Okay .'>,\n",
       " <A.57: u'which is , uh , on sort of a run . I have a , a thirty foot cable ,'>,\n",
       " <B.58: u'Okay .'>,\n",
       " <A.59: u'running from one stake to another , and then attached to that is a , uh , twelve foot leash ,'>,\n",
       " <B.60: u'Okay .'>,\n",
       " <A.61: u'so she can cover quite an area .'>,\n",
       " <B.62: u'Most definitely .'>,\n",
       " <A.63: u\"And , uh , she 's the best , uh , burglar alarm going .\">,\n",
       " <B.64: u\"Yeah , yeah , yeah that 's , uh , definite security involved in , uh , in a dog like that .\">,\n",
       " <A.65: u\"Oh , yeah , she , uh , it 's the strangest thing , though , uh , children , no matter how strange they are , or how new they might be can walk , uh , right up to her ,\">,\n",
       " <B.66: u'Uh-huh .'>,\n",
       " <A.67: u\"but adults , if they 're strange to her , or , or they look suspicious or something , boy she acts like she wants to chew their leg off .\">,\n",
       " <B.68: u'Wow .'>,\n",
       " <A.69: u'And I have not discovered yet where the , the line is between children and adults .'>,\n",
       " <B.70: u\"Yeah , that 's interesting .\">,\n",
       " <A.71: u'But , uh , she is a great comfort to me .'>,\n",
       " <B.72: u\"Yeah , I know our dog has had , uh , some different reactions , she 's never really been around children and , uh , if , if the child is , is pretty straight forward , um , she 's fine . If , if a child is a little intimidated , she 'll jump around and , and yip and bark quite a bit , and if the child gets scared , uh , she 's still trying to play , but she does n't completely understand what 's going on and we 've had a little confusion with , with , uh , with younger kids .\">,\n",
       " <A.73: u'Uh-huh .'>,\n",
       " <B.74: u\"But , uh , you know , that 's , it 's a matter of exposure really . Um , we , uh , took her home to , uh , my family 's place in South Dakota , and she was the one that was intimidated then . There was about seven kids ranging from about , uh , three years to ten years running around the house all at one time ,\">,\n",
       " <A.75: u'Oh , uh-huh .'>,\n",
       " <B.76: u\"you know come to visit Grandpa and Grandma and , the dog kind of , kind of felt out of place then because she was , she was being fed , and everything else from all directions . She really did n't know how to handle herself .\">,\n",
       " <A.77: u\"You mean she did n't appreciate all that attention .\">,\n",
       " <B.78: u\"She really did , she just , uh , she , she was alm- , she was just inundated with , with all the attention . Uh , she , she kind of , she kind of sat and MUMBLEx it all in for a little while and then she 'd go get back in and try to play and , and what not , but , uh , it was , it was just such a , such a new experience for her . She 's only been around one and , and sometimes two people at the most so , uh .\">,\n",
       " <A.79: u\"Uh-huh . What 's her name by the way ?\">,\n",
       " <B.80: u'Uh , pardon ?'>,\n",
       " <A.81: u'What , what do you call the dog ?'>,\n",
       " <B.82: u\"Oh , it 's , uh , Mitzi .\">,\n",
       " <A.83: u'Mitzi .'>,\n",
       " <B.84: u'Yeah .'>,\n",
       " <A.85: u'Mine is Gin .'>,\n",
       " <B.86: u'Oh , okay .'>,\n",
       " <A.87: u'As in , uh , martini .'>,\n",
       " <B.88: u'Yeah .'>,\n",
       " <A.89: u\"Actually , it 's Gin two .\">,\n",
       " <B.90: u'I , I see .'>,\n",
       " <A.91: u\"Because , uh , when I was a teenager , in high school , I had Gin one , but then when I went out in the world , I could n't take her with me .\">,\n",
       " <B.92: u'Yeah , yeah , yeah , I had , uh , a similar , uh , experience . I , I grew up on a farm so I always had , uh , outdoor pets and ,'>,\n",
       " <A.93: u'Uh-huh .'>,\n",
       " <B.94: u'uh , the dog I had when I moved to Dallas about five years ago was a , uh , Springer Spaniel , black Lab cross . And he was a real , a real lovable type ,'>,\n",
       " <A.95: u'Oh yeah .'>,\n",
       " <B.96: u'but , uh , definitely not an apartment type animal so he , uh , he had to stay home .'>,\n",
       " <A.97: u'Oh , what a shame .'>,\n",
       " <B.98: u'Yeah , yeah , it really was . He , uh , apparently had a tough time with it for a little while and then he , he got , he came to accept the fact that Mom and Dad were his company from then on , but , uh .'>,\n",
       " <A.99: u'Uh-huh , oh well .'>,\n",
       " <B.100: u'Yeah .'>]"
      ]
     },
     "execution_count": 8,
     "metadata": {},
     "output_type": "execute_result"
    }
   ],
   "source": [
    "switchboard.turns()[1:100]"
   ]
  },
  {
   "cell_type": "code",
   "execution_count": 10,
   "metadata": {
    "collapsed": false
   },
   "outputs": [
    {
     "data": {
      "text/plain": [
       "36"
      ]
     },
     "execution_count": 10,
     "metadata": {},
     "output_type": "execute_result"
    }
   ],
   "source": [
    "len(switchboard.discourses())"
   ]
  },
  {
   "cell_type": "code",
   "execution_count": 20,
   "metadata": {
    "collapsed": false
   },
   "outputs": [
    {
     "data": {
      "text/plain": [
       "[u',',\n",
       " u'do',\n",
       " u'you',\n",
       " u'have',\n",
       " u'a',\n",
       " u'pet',\n",
       " u'Randy',\n",
       " u'?',\n",
       " u'Uh',\n",
       " u',',\n",
       " u'yeah',\n",
       " u',',\n",
       " u'currently',\n",
       " u'we',\n",
       " u'have',\n",
       " u'a',\n",
       " u'poodle',\n",
       " u'.',\n",
       " u'A']"
      ]
     },
     "execution_count": 20,
     "metadata": {},
     "output_type": "execute_result"
    }
   ],
   "source": [
    "switchboard.words()[1:20]"
   ]
  },
  {
   "cell_type": "code",
   "execution_count": 13,
   "metadata": {
    "collapsed": false
   },
   "outputs": [
    {
     "data": {
      "text/plain": [
       "['_FILES',\n",
       " '_SEP',\n",
       " '_UTTERANCE_RE',\n",
       " '__class__',\n",
       " '__delattr__',\n",
       " '__dict__',\n",
       " '__doc__',\n",
       " '__format__',\n",
       " '__getattribute__',\n",
       " '__hash__',\n",
       " '__init__',\n",
       " '__module__',\n",
       " '__new__',\n",
       " '__reduce__',\n",
       " '__reduce_ex__',\n",
       " '__repr__',\n",
       " '__setattr__',\n",
       " '__sizeof__',\n",
       " '__str__',\n",
       " '__subclasshook__',\n",
       " '__unicode__',\n",
       " '__weakref__',\n",
       " '_discourses_block_reader',\n",
       " '_encoding',\n",
       " '_fileids',\n",
       " '_get_root',\n",
       " '_parse_utterance',\n",
       " '_root',\n",
       " '_tagged_discourses_block_reader',\n",
       " '_tagged_turns_block_reader',\n",
       " '_tagged_words_block_reader',\n",
       " '_tagset',\n",
       " '_turns_block_reader',\n",
       " '_unload',\n",
       " '_words_block_reader',\n",
       " 'abspath',\n",
       " 'abspaths',\n",
       " 'citation',\n",
       " 'discourses',\n",
       " 'encoding',\n",
       " 'ensure_loaded',\n",
       " 'fileids',\n",
       " 'license',\n",
       " 'open',\n",
       " 'readme',\n",
       " 'root',\n",
       " 'tagged_discourses',\n",
       " 'tagged_turns',\n",
       " 'tagged_words',\n",
       " 'turns',\n",
       " 'unicode_repr',\n",
       " 'words']"
      ]
     },
     "execution_count": 13,
     "metadata": {},
     "output_type": "execute_result"
    }
   ],
   "source": [
    "dir(switchboard)"
   ]
  },
  {
   "cell_type": "code",
   "execution_count": 17,
   "metadata": {
    "collapsed": false
   },
   "outputs": [
    {
     "data": {
      "text/plain": [
       "u'Switchboard Corpus Sample\\n\\nDerived from \"TalkBank Switchboard Corpus, Version 0.1\"\\n\\nSpeech data and text transcription is Copyright (C) 2000 University of\\nPennsylvania.  Other transcriptions and annotations are the copyright of\\ntheir individual authors (as identified below).\\n\\nPermission is granted for use of this material in accordance with the\\nOpen Content License [http://opencontent.org/opl.shtml].\\nThis corpus contains transcripts and annotations for 36 calls from\\nthe Switchboard Corpus [http://www.ldc.upenn.edu/Catalog/LDC93S7.html].\\n\\nThe Switchboard corpus has been enriched with various kinds of annotations\\nsince it was first published [1].\\n\\nFrom the original set of 2438 calls, 36 calls were selected which had\\ncomplete discourse and treebank annotations and significant phonetic\\nannotation.\\n\\ntranscript           orthographic transcription (TI, LDC, BBN, ISIP)\\ntimed-transcript     orthographic transcription with audio offsets (TI, LDC, BBN, ISIP)\\ntagged               part-of-speech tagged transcription\\ndiscourse            discourse annotation (Jurafsky, Colorado; Shriberg, SRI)\\ndisfluency           disfluency annotation (Shriberg, SRI)\\n\\nWe gratefully acknowledge the support of Steve Greenberg (UC Berkeley),\\nDan Jurafsky (University of Colorado), Joe Picone (Mississippi State),\\nand Elizabeth Shriberg (SRI), in furnishing this data.\\n\\n[1] David Graff & Steven Bird (2000).  Many uses, many annotations for large\\n    speech corpora: Switchboard and TDT as case studies.  Proceedings of the\\n    Second International Conference on Language Resources and Evaluation,\\n    pp. 427-433, Paris: European Language Resources Association, 2000.\\n    http://arXiv.org/abs/cs/0007024\\n'"
      ]
     },
     "execution_count": 17,
     "metadata": {},
     "output_type": "execute_result"
    }
   ],
   "source": [
    "switchboard.readme()"
   ]
  },
  {
   "cell_type": "code",
   "execution_count": null,
   "metadata": {
    "collapsed": true
   },
   "outputs": [],
   "source": [
    "\"\"\"\n",
    "A specialized list object used to encode switchboard utterances.\n",
    "The elements of the list are the words in the utterance; and two\n",
    "attributes, ``speaker`` and ``id``, are provided to retrieve the\n",
    "spearker identifier and utterance id.  Note that utterance ids\n",
    "are only unique within a given discourse.\n",
    "\"\"\""
   ]
  },
  {
   "cell_type": "code",
   "execution_count": null,
   "metadata": {
    "collapsed": true
   },
   "outputs": [],
   "source": [
    "http://www.nltk.org/_modules/nltk/corpus/reader/switchboard.html"
   ]
  }
 ],
 "metadata": {
  "kernelspec": {
   "display_name": "Python [Root]",
   "language": "python",
   "name": "Python [Root]"
  },
  "language_info": {
   "codemirror_mode": {
    "name": "ipython",
    "version": 2
   },
   "file_extension": ".py",
   "mimetype": "text/x-python",
   "name": "python",
   "nbconvert_exporter": "python",
   "pygments_lexer": "ipython2",
   "version": "2.7.12"
  }
 },
 "nbformat": 4,
 "nbformat_minor": 0
}
